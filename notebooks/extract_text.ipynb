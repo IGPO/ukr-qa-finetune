{
  "cells": [
    {
      "cell_type": "markdown",
      "metadata": {},
      "source": [
        "# \ud83e\uddfe Extract Text from Ukrainian Dissertation PDF\n",
        "This notebook extracts and cleans text from a PDF document using PyMuPDF (`fitz`)."
      ]
    },
    {
      "cell_type": "code",
      "execution_count": null,
      "metadata": {},
      "outputs": [],
      "source": [
        "!pip install pymupdf"
      ]
    },
    {
      "cell_type": "code",
      "execution_count": null,
      "metadata": {},
      "outputs": [],
      "source": [
        "from google.colab import files\n",
        "uploaded = files.upload()"
      ]
    },
    {
      "cell_type": "code",
      "execution_count": null,
      "metadata": {},
      "outputs": [],
      "source": [
        "import fitz  # PyMuPDF\n",
        "import re\n",
        "\n",
        "def clean_text(text):\n",
        "    text = re.sub(r'\\n+', '\\n', text)\n",
        "    text = re.sub(r'\\s{2,}', ' ', text)\n",
        "    text = re.sub(r'\u0420\u0438\u0441\\..*|\u0422\u0430\u0431\u043b\\..*', '', text)\n",
        "    text = re.sub(r'[^\\S\\r\\n]{2,}', ' ', text)\n",
        "    return text.strip()\n",
        "\n",
        "def extract_text_from_pdf(pdf_path):\n",
        "    doc = fitz.open(pdf_path)\n",
        "    chunks = []\n",
        "    for page in doc:\n",
        "        text = page.get_text()\n",
        "        text = clean_text(text)\n",
        "        if len(text.split()) > 50:\n",
        "            chunks.append(text)\n",
        "    return chunks\n",
        "\n",
        "pdf_path = next(iter(uploaded))\n",
        "chunks = extract_text_from_pdf(pdf_path)\n",
        "\n",
        "print(f\"Extracted {len(chunks)} cleaned chunks.\")\n",
        "print(chunks[0][:500])"
      ]
    }
  ],
  "metadata": {
    "kernelspec": {
      "display_name": "Python 3",
      "language": "python",
      "name": "python3"
    },
    "language_info": {
      "name": "python",
      "version": "3.x"
    }
  },
  "nbformat": 4,
  "nbformat_minor": 2
}