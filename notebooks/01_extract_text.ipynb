
📌 **Замени** ссылку на свой GitHub-репозиторий после заливки ноутбука.

---

## 📒 Шаблон `extract_text.ipynb`

```python
# 📘 Ukrainian Dissertation Text Extractor

## 🔧 Install dependencies (Colab)
!pip install pymupdf

## 📥 Step 1: Upload your PDF
from google.colab import files
uploaded = files.upload()

import fitz  # PyMuPDF
import re

## 📤 Step 2: Extract and clean text

def clean_text(text):
    text = re.sub(r'\n+', '\n', text)
    text = re.sub(r'\s{2,}', ' ', text)
    text = re.sub(r'Рис\..*|Табл\..*', '', text)
    text = re.sub(r'[^\S\r\n]{2,}', ' ', text)
    return text.strip()

def extract_text_from_pdf(pdf_path):
    doc = fitz.open(pdf_path)
    chunks = []
    for page in doc:
        text = page.get_text()
        text = clean_text(text)
        if len(text.split()) > 50:
            chunks.append(text)
    return chunks

pdf_path = next(iter(uploaded))
chunks = extract_text_from_pdf(pdf_path)

print(f"Extracted {len(chunks)} cleaned chunks.")
print(chunks[0][:500])
